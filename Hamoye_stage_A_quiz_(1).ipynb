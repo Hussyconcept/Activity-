{
  "cells": [
    {
      "cell_type": "markdown",
      "metadata": {
        "id": "view-in-github",
        "colab_type": "text"
      },
      "source": [
        "<a href=\"https://colab.research.google.com/github/Hussyconcept/Activity-/blob/main/Hamoye_stage_A_quiz_(1).ipynb\" target=\"_parent\"><img src=\"https://colab.research.google.com/assets/colab-badge.svg\" alt=\"Open In Colab\"/></a>"
      ]
    },
    {
      "cell_type": "code",
      "execution_count": null,
      "id": "0e9c3c24",
      "metadata": {
        "id": "0e9c3c24"
      },
      "outputs": [],
      "source": [
        "import pandas as pd\n",
        "import matplotlib.pyplot as plt\n",
        "import numpy as np\n",
        "import seaborn as sn"
      ]
    },
    {
      "cell_type": "code",
      "execution_count": null,
      "id": "f0dd99a6",
      "metadata": {
        "id": "f0dd99a6",
        "outputId": "d8dbbbf9-03cb-44b3-bcac-1e63fdcaa509"
      },
      "outputs": [
        {
          "data": {
            "text/html": [
              "<div>\n",
              "<style scoped>\n",
              "    .dataframe tbody tr th:only-of-type {\n",
              "        vertical-align: middle;\n",
              "    }\n",
              "\n",
              "    .dataframe tbody tr th {\n",
              "        vertical-align: top;\n",
              "    }\n",
              "\n",
              "    .dataframe thead th {\n",
              "        text-align: right;\n",
              "    }\n",
              "</style>\n",
              "<table border=\"1\" class=\"dataframe\">\n",
              "  <thead>\n",
              "    <tr style=\"text-align: right;\">\n",
              "      <th></th>\n",
              "      <th>Area Code</th>\n",
              "      <th>Area</th>\n",
              "      <th>Item Code</th>\n",
              "      <th>Item</th>\n",
              "      <th>Element Code</th>\n",
              "      <th>Element</th>\n",
              "      <th>Unit</th>\n",
              "      <th>Y2014</th>\n",
              "      <th>Y2015</th>\n",
              "      <th>Y2016</th>\n",
              "      <th>Y2017</th>\n",
              "      <th>Y2018</th>\n",
              "    </tr>\n",
              "  </thead>\n",
              "  <tbody>\n",
              "    <tr>\n",
              "      <th>0</th>\n",
              "      <td>4</td>\n",
              "      <td>Algeria</td>\n",
              "      <td>2501</td>\n",
              "      <td>Population</td>\n",
              "      <td>511</td>\n",
              "      <td>Total Population - Both sexes</td>\n",
              "      <td>1000 persons</td>\n",
              "      <td>38924.00</td>\n",
              "      <td>39728.00</td>\n",
              "      <td>40551.00</td>\n",
              "      <td>41389.00</td>\n",
              "      <td>42228.00</td>\n",
              "    </tr>\n",
              "    <tr>\n",
              "      <th>1</th>\n",
              "      <td>4</td>\n",
              "      <td>Algeria</td>\n",
              "      <td>2501</td>\n",
              "      <td>Population</td>\n",
              "      <td>5301</td>\n",
              "      <td>Domestic supply quantity</td>\n",
              "      <td>1000 tonnes</td>\n",
              "      <td>0.00</td>\n",
              "      <td>0.00</td>\n",
              "      <td>0.00</td>\n",
              "      <td>0.00</td>\n",
              "      <td>0.00</td>\n",
              "    </tr>\n",
              "    <tr>\n",
              "      <th>2</th>\n",
              "      <td>4</td>\n",
              "      <td>Algeria</td>\n",
              "      <td>2901</td>\n",
              "      <td>Grand Total</td>\n",
              "      <td>664</td>\n",
              "      <td>Food supply (kcal/capita/day)</td>\n",
              "      <td>kcal/capita/day</td>\n",
              "      <td>3377.00</td>\n",
              "      <td>3379.00</td>\n",
              "      <td>3372.00</td>\n",
              "      <td>3341.00</td>\n",
              "      <td>3322.00</td>\n",
              "    </tr>\n",
              "    <tr>\n",
              "      <th>3</th>\n",
              "      <td>4</td>\n",
              "      <td>Algeria</td>\n",
              "      <td>2901</td>\n",
              "      <td>Grand Total</td>\n",
              "      <td>674</td>\n",
              "      <td>Protein supply quantity (g/capita/day)</td>\n",
              "      <td>g/capita/day</td>\n",
              "      <td>94.90</td>\n",
              "      <td>94.35</td>\n",
              "      <td>94.72</td>\n",
              "      <td>92.82</td>\n",
              "      <td>91.83</td>\n",
              "    </tr>\n",
              "    <tr>\n",
              "      <th>4</th>\n",
              "      <td>4</td>\n",
              "      <td>Algeria</td>\n",
              "      <td>2901</td>\n",
              "      <td>Grand Total</td>\n",
              "      <td>684</td>\n",
              "      <td>Fat supply quantity (g/capita/day)</td>\n",
              "      <td>g/capita/day</td>\n",
              "      <td>80.06</td>\n",
              "      <td>79.36</td>\n",
              "      <td>77.40</td>\n",
              "      <td>80.19</td>\n",
              "      <td>77.28</td>\n",
              "    </tr>\n",
              "  </tbody>\n",
              "</table>\n",
              "</div>"
            ],
            "text/plain": [
              "   Area Code     Area  Item Code         Item  Element Code  \\\n",
              "0          4  Algeria       2501   Population           511   \n",
              "1          4  Algeria       2501   Population          5301   \n",
              "2          4  Algeria       2901  Grand Total           664   \n",
              "3          4  Algeria       2901  Grand Total           674   \n",
              "4          4  Algeria       2901  Grand Total           684   \n",
              "\n",
              "                                  Element             Unit     Y2014  \\\n",
              "0           Total Population - Both sexes     1000 persons  38924.00   \n",
              "1                Domestic supply quantity      1000 tonnes      0.00   \n",
              "2           Food supply (kcal/capita/day)  kcal/capita/day   3377.00   \n",
              "3  Protein supply quantity (g/capita/day)     g/capita/day     94.90   \n",
              "4      Fat supply quantity (g/capita/day)     g/capita/day     80.06   \n",
              "\n",
              "      Y2015     Y2016     Y2017     Y2018  \n",
              "0  39728.00  40551.00  41389.00  42228.00  \n",
              "1      0.00      0.00      0.00      0.00  \n",
              "2   3379.00   3372.00   3341.00   3322.00  \n",
              "3     94.35     94.72     92.82     91.83  \n",
              "4     79.36     77.40     80.19     77.28  "
            ]
          },
          "execution_count": 7,
          "metadata": {},
          "output_type": "execute_result"
        }
      ],
      "source": [
        "Data = pd.read_csv(r\"C:\\Users\\Hussein\\Downloads\\FoodBalanceSheets_E_Africa_NOFLAG (1).csv\", encoding = \"latin-1\")\n",
        "Data.head()"
      ]
    },
    {
      "cell_type": "code",
      "execution_count": null,
      "id": "b25a60bc",
      "metadata": {
        "id": "b25a60bc",
        "outputId": "2be66cb0-9ff0-4a2c-ecc3-b63cfa1acab3"
      },
      "outputs": [
        {
          "data": {
            "text/plain": [
              "Element\n",
              "Domestic supply quantity                  5244\n",
              "Export Quantity                           3660\n",
              "Fat supply quantity (g/capita/day)        4965\n",
              "Feed                                      1216\n",
              "Food                                      4896\n",
              "Food supply (kcal/capita/day)             4947\n",
              "Food supply quantity (kg/capita/yr)       4860\n",
              "Import Quantity                           4919\n",
              "Losses                                    2009\n",
              "Other uses (non-food)                     1662\n",
              "Processing                                1987\n",
              "Production                                3830\n",
              "Protein supply quantity (g/capita/day)    4963\n",
              "Residuals                                 4604\n",
              "Seed                                       762\n",
              "Stock Variation                           4230\n",
              "Total Population - Both sexes               45\n",
              "Tourist consumption                        555\n",
              "Name: Y2014, dtype: int64"
            ]
          },
          "execution_count": 8,
          "metadata": {},
          "output_type": "execute_result"
        }
      ],
      "source": [
        "Data.groupby(\"Element\")[\"Y2014\"].count()\n"
      ]
    },
    {
      "cell_type": "code",
      "execution_count": null,
      "id": "dea5ddc8",
      "metadata": {
        "id": "dea5ddc8"
      },
      "outputs": [],
      "source": [
        "Data[[\"Element\"]] = Data[[\"Y2014\"]].fillna(value=\"mcf\")"
      ]
    },
    {
      "cell_type": "code",
      "execution_count": null,
      "id": "63146a8d",
      "metadata": {
        "id": "63146a8d",
        "outputId": "a02aa927-6353-4354-c505-501fe34ce477"
      },
      "outputs": [
        {
          "data": {
            "text/plain": [
              "Element\n",
              "-1796.0       1\n",
              "-1631.0       1\n",
              "-849.0        2\n",
              "-838.0        1\n",
              "-685.0        1\n",
              "           ... \n",
              "98094.0       1\n",
              "108756.0      1\n",
              "109593.0      1\n",
              "176405.0      1\n",
              "mcf         863\n",
              "Name: Y2017, Length: 4494, dtype: int64"
            ]
          },
          "execution_count": 10,
          "metadata": {},
          "output_type": "execute_result"
        }
      ],
      "source": [
        "Data.groupby(\"Element\")[\"Y2017\"].count()"
      ]
    },
    {
      "cell_type": "code",
      "execution_count": null,
      "id": "90dbbda8",
      "metadata": {
        "id": "90dbbda8",
        "outputId": "57987f57-b67f-48e9-c9e9-07a72b16efbe"
      },
      "outputs": [
        {
          "data": {
            "text/plain": [
              "Element\n",
              "-1796.0     1\n",
              "-1631.0     1\n",
              "-849.0      2\n",
              "-838.0      1\n",
              "-685.0      1\n",
              "           ..\n",
              "98094.0     1\n",
              "108756.0    1\n",
              "109593.0    1\n",
              "176405.0    1\n",
              "mcf         0\n",
              "Name: Y2014, Length: 4494, dtype: int64"
            ]
          },
          "execution_count": 11,
          "metadata": {},
          "output_type": "execute_result"
        }
      ],
      "source": [
        "Data.groupby(\"Element\")[\"Y2014\"].count()"
      ]
    },
    {
      "cell_type": "code",
      "execution_count": null,
      "id": "a2901313",
      "metadata": {
        "id": "a2901313",
        "outputId": "60e703ab-5f87-4457-af39-fb75a64b5100"
      },
      "outputs": [
        {
          "data": {
            "text/plain": [
              "Item\n",
              "Alcohol, Non-Food        2403.00\n",
              "Alcoholic Beverages    102410.11\n",
              "Animal Products         11935.65\n",
              "Animal fats            209460.54\n",
              "Apples and products      9499.23\n",
              "                         ...    \n",
              "Vegetables, Other      155038.96\n",
              "Vegetal Products       107145.19\n",
              "Wheat and products     232670.13\n",
              "Wine                     4497.36\n",
              "Yams                   200396.96\n",
              "Name: Y2014, Length: 119, dtype: float64"
            ]
          },
          "execution_count": 12,
          "metadata": {},
          "output_type": "execute_result"
        }
      ],
      "source": [
        "Data.groupby(\"Item\")[\"Y2014\"].sum()"
      ]
    },
    {
      "cell_type": "code",
      "execution_count": null,
      "id": "b07966b9",
      "metadata": {
        "id": "b07966b9",
        "outputId": "a4cfaf57-ecb8-4816-9255-93f6694e9188"
      },
      "outputs": [
        {
          "data": {
            "text/plain": [
              "Element\n",
              "-1796.0      -1796.0\n",
              "-1631.0      -1631.0\n",
              "-849.0       -1698.0\n",
              "-838.0        -838.0\n",
              "-685.0        -685.0\n",
              "              ...   \n",
              "98094.0      98094.0\n",
              "108756.0    108756.0\n",
              "109593.0    109593.0\n",
              "176405.0    176405.0\n",
              "mcf              0.0\n",
              "Name: Y2014, Length: 4494, dtype: float64"
            ]
          },
          "execution_count": 34,
          "metadata": {},
          "output_type": "execute_result"
        }
      ],
      "source": [
        "Data.groupby(\"Element\")[\"Y2014\"].sum()"
      ]
    },
    {
      "cell_type": "code",
      "execution_count": null,
      "id": "a475eb25",
      "metadata": {
        "id": "a475eb25",
        "outputId": "928ff459-b4fb-42d5-fb1f-78f00e63c14a"
      },
      "outputs": [
        {
          "data": {
            "text/plain": [
              "135.23596649549236"
            ]
          },
          "execution_count": 24,
          "metadata": {},
          "output_type": "execute_result"
        }
      ],
      "source": [
        "Data['Y2015'].mean()"
      ]
    },
    {
      "cell_type": "code",
      "execution_count": null,
      "id": "bbf6bc10",
      "metadata": {
        "id": "bbf6bc10",
        "outputId": "0ec175b8-9fa1-424c-b3a8-44ae28009a53"
      },
      "outputs": [
        {
          "data": {
            "text/plain": [
              "7965086.130000001"
            ]
          },
          "execution_count": 32,
          "metadata": {},
          "output_type": "execute_result"
        }
      ],
      "source": [
        "Data['Y2014'].sum()"
      ]
    },
    {
      "cell_type": "code",
      "execution_count": null,
      "id": "bbea4e63",
      "metadata": {
        "id": "bbea4e63",
        "outputId": "2a8aee6e-dcf4-4f4a-9256-d0a7ad2fca97"
      },
      "outputs": [
        {
          "data": {
            "text/plain": [
              "Area Code       60943\n",
              "Item Code       60943\n",
              "Item            60943\n",
              "Element Code    60943\n",
              "Element         60943\n",
              "Unit            60943\n",
              "Y2014           59354\n",
              "Y2015           59395\n",
              "Y2016           59408\n",
              "Y2017           59437\n",
              "Y2018           59507\n",
              "dtype: int64"
            ]
          },
          "execution_count": 31,
          "metadata": {},
          "output_type": "execute_result"
        }
      ],
      "source": [
        "Data.groupby('Area').count().sum()"
      ]
    },
    {
      "cell_type": "code",
      "execution_count": null,
      "id": "8368b60f",
      "metadata": {
        "id": "8368b60f",
        "outputId": "8b801f84-f79b-477e-bd1d-3b388ae673bf"
      },
      "outputs": [
        {
          "data": {
            "text/html": [
              "<div>\n",
              "<style scoped>\n",
              "    .dataframe tbody tr th:only-of-type {\n",
              "        vertical-align: middle;\n",
              "    }\n",
              "\n",
              "    .dataframe tbody tr th {\n",
              "        vertical-align: top;\n",
              "    }\n",
              "\n",
              "    .dataframe thead th {\n",
              "        text-align: right;\n",
              "    }\n",
              "</style>\n",
              "<table border=\"1\" class=\"dataframe\">\n",
              "  <thead>\n",
              "    <tr style=\"text-align: right;\">\n",
              "      <th></th>\n",
              "      <th>Area Code</th>\n",
              "      <th>Item Code</th>\n",
              "      <th>Element Code</th>\n",
              "      <th>Y2014</th>\n",
              "      <th>Y2015</th>\n",
              "      <th>Y2016</th>\n",
              "      <th>Y2017</th>\n",
              "      <th>Y2018</th>\n",
              "    </tr>\n",
              "    <tr>\n",
              "      <th>Element</th>\n",
              "      <th></th>\n",
              "      <th></th>\n",
              "      <th></th>\n",
              "      <th></th>\n",
              "      <th></th>\n",
              "      <th></th>\n",
              "      <th></th>\n",
              "      <th></th>\n",
              "    </tr>\n",
              "  </thead>\n",
              "  <tbody>\n",
              "    <tr>\n",
              "      <th>-1796.0</th>\n",
              "      <td>159</td>\n",
              "      <td>2657</td>\n",
              "      <td>5072</td>\n",
              "      <td>-1796.0</td>\n",
              "      <td>-73.00</td>\n",
              "      <td>-12.0</td>\n",
              "      <td>0.00</td>\n",
              "      <td>0.00</td>\n",
              "    </tr>\n",
              "    <tr>\n",
              "      <th>-1631.0</th>\n",
              "      <td>159</td>\n",
              "      <td>2924</td>\n",
              "      <td>5072</td>\n",
              "      <td>-1631.0</td>\n",
              "      <td>6.00</td>\n",
              "      <td>-77.0</td>\n",
              "      <td>-689.00</td>\n",
              "      <td>5.00</td>\n",
              "    </tr>\n",
              "    <tr>\n",
              "      <th>-849.0</th>\n",
              "      <td>266</td>\n",
              "      <td>5444</td>\n",
              "      <td>10340</td>\n",
              "      <td>-1698.0</td>\n",
              "      <td>-1118.00</td>\n",
              "      <td>-1119.0</td>\n",
              "      <td>-1200.00</td>\n",
              "      <td>-1196.00</td>\n",
              "    </tr>\n",
              "    <tr>\n",
              "      <th>-838.0</th>\n",
              "      <td>184</td>\n",
              "      <td>2907</td>\n",
              "      <td>5072</td>\n",
              "      <td>-838.0</td>\n",
              "      <td>-827.00</td>\n",
              "      <td>-679.0</td>\n",
              "      <td>-538.00</td>\n",
              "      <td>-567.00</td>\n",
              "    </tr>\n",
              "    <tr>\n",
              "      <th>-685.0</th>\n",
              "      <td>143</td>\n",
              "      <td>2905</td>\n",
              "      <td>5072</td>\n",
              "      <td>-685.0</td>\n",
              "      <td>3418.00</td>\n",
              "      <td>-3225.0</td>\n",
              "      <td>689.00</td>\n",
              "      <td>399.00</td>\n",
              "    </tr>\n",
              "    <tr>\n",
              "      <th>...</th>\n",
              "      <td>...</td>\n",
              "      <td>...</td>\n",
              "      <td>...</td>\n",
              "      <td>...</td>\n",
              "      <td>...</td>\n",
              "      <td>...</td>\n",
              "      <td>...</td>\n",
              "      <td>...</td>\n",
              "    </tr>\n",
              "    <tr>\n",
              "      <th>98094.0</th>\n",
              "      <td>238</td>\n",
              "      <td>2501</td>\n",
              "      <td>511</td>\n",
              "      <td>98094.0</td>\n",
              "      <td>100835.00</td>\n",
              "      <td>103603.0</td>\n",
              "      <td>106400.00</td>\n",
              "      <td>109224.00</td>\n",
              "    </tr>\n",
              "    <tr>\n",
              "      <th>108756.0</th>\n",
              "      <td>159</td>\n",
              "      <td>2907</td>\n",
              "      <td>5301</td>\n",
              "      <td>108756.0</td>\n",
              "      <td>110798.00</td>\n",
              "      <td>116483.0</td>\n",
              "      <td>112625.00</td>\n",
              "      <td>117038.00</td>\n",
              "    </tr>\n",
              "    <tr>\n",
              "      <th>109593.0</th>\n",
              "      <td>159</td>\n",
              "      <td>2907</td>\n",
              "      <td>5511</td>\n",
              "      <td>109593.0</td>\n",
              "      <td>111663.00</td>\n",
              "      <td>119330.0</td>\n",
              "      <td>117702.00</td>\n",
              "      <td>118172.00</td>\n",
              "    </tr>\n",
              "    <tr>\n",
              "      <th>176405.0</th>\n",
              "      <td>159</td>\n",
              "      <td>2501</td>\n",
              "      <td>511</td>\n",
              "      <td>176405.0</td>\n",
              "      <td>181137.00</td>\n",
              "      <td>185960.0</td>\n",
              "      <td>190873.00</td>\n",
              "      <td>195875.00</td>\n",
              "    </tr>\n",
              "    <tr>\n",
              "      <th>mcf</th>\n",
              "      <td>207084</td>\n",
              "      <td>4160778</td>\n",
              "      <td>7883990</td>\n",
              "      <td>0.0</td>\n",
              "      <td>349.35</td>\n",
              "      <td>391.9</td>\n",
              "      <td>706.17</td>\n",
              "      <td>862.29</td>\n",
              "    </tr>\n",
              "  </tbody>\n",
              "</table>\n",
              "<p>4494 rows × 8 columns</p>\n",
              "</div>"
            ],
            "text/plain": [
              "          Area Code  Item Code  Element Code     Y2014      Y2015     Y2016  \\\n",
              "Element                                                                       \n",
              "-1796.0         159       2657          5072   -1796.0     -73.00     -12.0   \n",
              "-1631.0         159       2924          5072   -1631.0       6.00     -77.0   \n",
              "-849.0          266       5444         10340   -1698.0   -1118.00   -1119.0   \n",
              "-838.0          184       2907          5072    -838.0    -827.00    -679.0   \n",
              "-685.0          143       2905          5072    -685.0    3418.00   -3225.0   \n",
              "...             ...        ...           ...       ...        ...       ...   \n",
              "98094.0         238       2501           511   98094.0  100835.00  103603.0   \n",
              "108756.0        159       2907          5301  108756.0  110798.00  116483.0   \n",
              "109593.0        159       2907          5511  109593.0  111663.00  119330.0   \n",
              "176405.0        159       2501           511  176405.0  181137.00  185960.0   \n",
              "mcf          207084    4160778       7883990       0.0     349.35     391.9   \n",
              "\n",
              "              Y2017      Y2018  \n",
              "Element                         \n",
              "-1796.0        0.00       0.00  \n",
              "-1631.0     -689.00       5.00  \n",
              "-849.0     -1200.00   -1196.00  \n",
              "-838.0      -538.00    -567.00  \n",
              "-685.0       689.00     399.00  \n",
              "...             ...        ...  \n",
              "98094.0   106400.00  109224.00  \n",
              "108756.0  112625.00  117038.00  \n",
              "109593.0  117702.00  118172.00  \n",
              "176405.0  190873.00  195875.00  \n",
              "mcf          706.17     862.29  \n",
              "\n",
              "[4494 rows x 8 columns]"
            ]
          },
          "execution_count": 29,
          "metadata": {},
          "output_type": "execute_result"
        }
      ],
      "source": [
        "Data.groupby('Element').sum()"
      ]
    },
    {
      "cell_type": "code",
      "execution_count": null,
      "id": "93496bc8",
      "metadata": {
        "id": "93496bc8"
      },
      "outputs": [],
      "source": [
        ""
      ]
    }
  ],
  "metadata": {
    "kernelspec": {
      "display_name": "Python 3 (ipykernel)",
      "language": "python",
      "name": "python3"
    },
    "language_info": {
      "codemirror_mode": {
        "name": "ipython",
        "version": 3
      },
      "file_extension": ".py",
      "mimetype": "text/x-python",
      "name": "python",
      "nbconvert_exporter": "python",
      "pygments_lexer": "ipython3",
      "version": "3.9.12"
    },
    "colab": {
      "name": "Hamoye stage A quiz (1).ipynb",
      "provenance": [],
      "collapsed_sections": [],
      "include_colab_link": true
    }
  },
  "nbformat": 4,
  "nbformat_minor": 5
}